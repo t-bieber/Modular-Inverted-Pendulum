{
 "cells": [
  {
   "cell_type": "markdown",
   "id": "606684b0",
   "metadata": {},
   "source": [
    "# Inverted pendulum\n",
    "\n",
    "## 1. Modelling and Linearization\n",
    "\n",
    "### Equations of motion\n",
    "\n",
    "The equations describing the motion of an inverted pendulum on a cart are the following:\n",
    "\n",
    "$x_1 = x\\text{: horizontal position (m)}$\n",
    "\n",
    "$x_2 = \\dot{x}\\text{: horizontal velocity (m/s)}$\n",
    "\n",
    "$x_3 = \\theta\\text{: angle of rod (rad)}$\n",
    "\n",
    "$x_4 = \\dot{\\theta}\\text{: angular velocity of the rod (rad/s)}$\n",
    "\n",
    "We want to stabilise the system at $x_{3}^{eq} = 0$, where $x_{4}^{eq}$ and $F^{eq} = 0$\n",
    "\n",
    "### The dynamical system\n",
    "\n",
    "The dynamical system is described as\n",
    "\n",
    "$\\dot{x_1} = x_2,$\n",
    "\n",
    "$\\dot{x_2} = \\Phi(F,x_3,x_4),$\n",
    "\n",
    "$\\dot{x_3} = x_4,$\n",
    "\n",
    "$\\dot{x_4} = \\Psi(F,x_3,x_4).$\n",
    "\n",
    "where\n",
    "\n",
    "$\\Phi(F,x_3,x_4) := \\frac{4m \\cdot l \\cdot x_4^2 \\cdot \\sin(x_3) + 4F - 3m \\cdot g \\cdot \\sin(x_3) \\cos(x_3)}{4(M+m)-3m \\cdot \\cos^2(x^3)},$\n",
    "\n",
    "$\\Psi(F,x_3,x_4) := -3\\frac{m \\cdot l \\cdot x_4^2 \\cdot \\sin(x_3)}{[4(M+m)-3m \\cdot \\cos^2(x_3)]l}.$\n",
    "\n",
    "Here, $M$ and $m$ are the masses of the cart and rod respectively, $l$ is the half-length of the rod and $g$ is the gravitational acceleration."
   ]
  },
  {
   "cell_type": "code",
   "execution_count": null,
   "id": "aea17cdc",
   "metadata": {},
   "outputs": [
    {
     "name": "stdout",
     "output_type": "stream",
     "text": [
      "Phi = \n",
      "                                      2        \n",
      "4⋅F - 3⋅g⋅m⋅sin(x₃)⋅cos(x₃) + 4⋅l⋅m⋅x₄ ⋅sin(x₃)\n",
      "───────────────────────────────────────────────\n",
      "                        2                      \n",
      "           4⋅M - 3⋅m⋅cos (x₃) + 4⋅m            \n",
      "Psi = \n",
      "                                             2                \n",
      "-3⋅F⋅cos(x₃) + 3⋅g⋅(M + m)⋅sin(x₃) - 3⋅l⋅m⋅x₄ ⋅sin(x₃)⋅cos(x₃)\n",
      "──────────────────────────────────────────────────────────────\n",
      "                   ⎛             2          ⎞                 \n",
      "                 l⋅⎝4⋅M - 3⋅m⋅cos (x₃) + 4⋅m⎠                 \n"
     ]
    }
   ],
   "source": [
    "import sympy as sym\n",
    "from sympy.physics.control import *\n",
    "\n",
    "x_3, x_4, F = sym.symbols(\"x_3, x_4, F\", real=True)\n",
    "M, m, l, g = sym.symbols(\"M, m, l, g\", positive=True)\n",
    "\n",
    "phi = (\n",
    "    4 * m * l * x_4**2 * sym.sin(x_3) + 4 * F - 3 * m * g * sym.sin(x_3) * sym.cos(x_3)\n",
    ") / (4 * (M + m) - 3 * m * sym.cos(x_3) ** 2)\n",
    "print(\"Phi = \")\n",
    "sym.pprint(phi)\n",
    "\n",
    "psi = (\n",
    "    -3\n",
    "    * (\n",
    "        m * l * x_4**2 * sym.sin(x_3) * sym.cos(x_3)\n",
    "        + F * sym.cos(x_3)\n",
    "        - (M + m) * g * sym.sin(x_3)\n",
    "    )\n",
    "    / ((4 * (M + m) - 3 * m * sym.cos(x_3) ** 2) * l)\n",
    ")\n",
    "print(\"Psi = \")\n",
    "sym.pprint(psi)"
   ]
  },
  {
   "cell_type": "markdown",
   "id": "bf1961dc",
   "metadata": {},
   "source": [
    "### Linearization\n",
    "\n",
    "We need to linearize both $\\Phi$ and $\\Psi$.\n",
    "\n",
    "#### Linearizing $\\Phi$\n",
    "\n",
    "We will start with $\\Phi$ at $(F, x_3, x_4) = (0,0,0)$, i.e. no force acting on the cart, rod in the upright position with no angular velocity. The linearization will have the format:\n",
    "\n",
    "$\\Psi(F, x_3, x_4) \\approx a \\cdot F + b \\cdot x_3 + c \\cdot x_4$"
   ]
  },
  {
   "cell_type": "code",
   "execution_count": 6,
   "id": "14c81ab8",
   "metadata": {},
   "outputs": [
    {
     "name": "stdout",
     "output_type": "stream",
     "text": [
      "0\n"
     ]
    }
   ],
   "source": [
    "F_0 = 0\n",
    "x_3_0 = 0\n",
    "x_4_0 = 0\n",
    "\n",
    "phi_0 = phi.subs([(F, F_0), (x_3, x_3_0), (x_4, x_4_0)])\n",
    "sym.pprint(phi_0)"
   ]
  },
  {
   "cell_type": "markdown",
   "id": "c2e239e6",
   "metadata": {},
   "source": [
    "We find that $\\Phi(0,0,0) = 0$.\n",
    "We will now determine the partial derivatives\n",
    "\n",
    "$\\frac{\\partial\\Phi}{\\partial F}, \\frac{\\partial\\Phi}{\\partial x_3}, \\frac{\\partial\\Phi}{\\partial x_4}$"
   ]
  },
  {
   "cell_type": "code",
   "execution_count": 7,
   "id": "da70c5c5",
   "metadata": {},
   "outputs": [],
   "source": [
    "dphi_f = phi.diff(F)\n",
    "dphi_x3 = phi.diff(x_3)\n",
    "dphi_x4 = phi.diff(x_4)\n",
    "\n",
    "# these are ugly and long, so we will not print them, but you can if you want to:\n",
    "#\n",
    "# print(\"Partial derivative of Phi in regards to F:\")\n",
    "# sym.pprint(dphi_f)\n",
    "# print()\n",
    "# print(\"Partial derivative of Phi in regards to x_3:\")\n",
    "# sym.pprint(dphi_x3)\n",
    "# print()\n",
    "# print(\"Partial derivative of Phi in regards to x_4:\")\n",
    "# sym.pprint(dphi_x4)"
   ]
  },
  {
   "cell_type": "markdown",
   "id": "146a8a97",
   "metadata": {},
   "source": [
    "Now we will determine the values for\n",
    "\n",
    "$ \\left. \\frac{\\partial\\Phi}{\\partial F} \\right |_{0,0,0}, \\left. \\frac{\\partial\\Phi}{\\partial x_3} \\right |_{0,0,0}, \\left. \\frac{\\partial\\Phi}{\\partial x_4} \\right |_{0,0,0} $"
   ]
  },
  {
   "cell_type": "code",
   "execution_count": 8,
   "id": "86a770ad",
   "metadata": {},
   "outputs": [
    {
     "name": "stdout",
     "output_type": "stream",
     "text": [
      "   4   \n",
      "───────\n",
      "4⋅M + m\n",
      "\n",
      "-3⋅g⋅m \n",
      "───────\n",
      "4⋅M + m\n",
      "\n",
      "0\n"
     ]
    }
   ],
   "source": [
    "dphi_f_0 = dphi_f.subs([(F, F_0), (x_3, x_3_0), (x_4, x_4_0)])\n",
    "dphi_x3_0 = dphi_x3.subs([(F, F_0), (x_3, x_3_0), (x_4, x_4_0)])\n",
    "dphi_x4_0 = dphi_x4.subs([(F, F_0), (x_3, x_3_0), (x_4, x_4_0)])\n",
    "\n",
    "sym.pprint(dphi_f_0)\n",
    "print()\n",
    "sym.pprint(dphi_x3_0)\n",
    "print()\n",
    "sym.pprint(dphi_x4_0)"
   ]
  },
  {
   "cell_type": "markdown",
   "id": "d2ae7893",
   "metadata": {},
   "source": [
    "We find that\n",
    "\n",
    "$ \\left. \\frac{\\partial \\Phi(F, x_3, x_4) }{\\partial F} \\right |_{0,0,0} = \\frac{4}{4M + m}, $\n",
    "\n",
    "$ \\left. \\frac{\\partial \\Phi(F, x_3, x_4) }{\\partial x_3} \\right |_{0,0,0} = -\\frac{3g \\cdot m}{4M + m}, $\n",
    "\n",
    "$ \\left. \\frac{\\partial \\Phi(F, x_3, x_4) }{\\partial x_4} \\right |_{0,0,0} = 0.$\n",
    "\n",
    "Therefore the linearization of $\\Phi$ at $(0,0,0)$ is:\n",
    "\n",
    "$ \\Phi \\approx  \\frac{4}{4M + m} \\cdot F - \\frac{3g \\cdot m}{4M + m} \\cdot x_3 $\n",
    "\n",
    "This is considered valid for $(F, x_3, x_4)$ close to $(0,0,0)$"
   ]
  },
  {
   "cell_type": "markdown",
   "id": "6fd7d570",
   "metadata": {},
   "source": [
    "#### Linearizing $\\Psi$"
   ]
  },
  {
   "cell_type": "markdown",
   "id": "4aa2e8b9",
   "metadata": {},
   "source": [
    "We will now linearize $\\Psi$ at $(F, x_3, x_4) = (0,0,0)$. The linearization will have the format:\n",
    "\n",
    "$\\Psi(F, x_3, x_4) \\approx c \\cdot F + d \\cdot x_3 + e\\cdot x_4$\n",
    "\n",
    "where $c_1$, $c_2$, $c_3$ are constants to be determined."
   ]
  },
  {
   "cell_type": "code",
   "execution_count": 9,
   "id": "4c889e9c",
   "metadata": {},
   "outputs": [
    {
     "name": "stdout",
     "output_type": "stream",
     "text": [
      "0\n"
     ]
    }
   ],
   "source": [
    "psi_0 = psi.subs([(F, F_0), (x_3, x_3_0), (x_4, x_4_0)])\n",
    "sym.pprint(psi_0)"
   ]
  },
  {
   "cell_type": "markdown",
   "id": "d12e5140",
   "metadata": {},
   "source": [
    "We find that $\\Psi(0,0,0) = 0$.\n",
    "We will now determine the partial derivatives\n",
    "\n",
    "$\\frac{\\partial\\Psi}{\\partial F}, \\frac{\\partial\\Psi}{\\partial x_3}, \\frac{\\partial\\Psi}{\\partial x_4}$"
   ]
  },
  {
   "cell_type": "code",
   "execution_count": 10,
   "id": "fc360161",
   "metadata": {},
   "outputs": [],
   "source": [
    "dpsi_f = psi.diff(F)\n",
    "dpsi_x3 = psi.diff(x_3)\n",
    "dpsi_x4 = psi.diff(x_4)\n",
    "\n",
    "# these are again ugly and long, so we will not print them, but you can if you want to:\n",
    "#\n",
    "# print(\"Partial derivative of Psi in regards to F:\")\n",
    "# sym.pprint(dpsi_f)\n",
    "# print()\n",
    "# print(\"Partial derivative of Psi in regards to x_3:\")\n",
    "# sym.pprint(dpsi_x3)\n",
    "# print()\n",
    "# print(\"Partial derivative of Psi in regards to x_4:\")\n",
    "# sym.pprint(dpsi_x4)"
   ]
  },
  {
   "cell_type": "markdown",
   "id": "8cb814ea",
   "metadata": {},
   "source": [
    "Now we will determine the values for\n",
    "\n",
    "$ \\left. \\frac{\\partial\\Psi}{\\partial F} \\right |_{0,0,0}, \\left. \\frac{\\partial\\Psi}{\\partial x_3} \\right |_{0,0,0}, \\left. \\frac{\\partial\\Psi}{\\partial x_4} \\right |_{0,0,0} $"
   ]
  },
  {
   "cell_type": "code",
   "execution_count": 11,
   "id": "390c4cb7",
   "metadata": {},
   "outputs": [
    {
     "name": "stdout",
     "output_type": "stream",
     "text": [
      "    -3     \n",
      "───────────\n",
      "l⋅(4⋅M + m)\n",
      "\n",
      "3⋅g⋅(M + m)\n",
      "───────────\n",
      "l⋅(4⋅M + m)\n",
      "\n",
      "0\n"
     ]
    }
   ],
   "source": [
    "dpsi_f_0 = dpsi_f.subs([(F, F_0), (x_3, x_3_0), (x_4, x_4_0)])\n",
    "dpsi_x3_0 = dpsi_x3.subs([(F, F_0), (x_3, x_3_0), (x_4, x_4_0)])\n",
    "dpsi_x4_0 = dpsi_x4.subs([(F, F_0), (x_3, x_3_0), (x_4, x_4_0)])\n",
    "\n",
    "sym.pprint(dpsi_f_0)\n",
    "print()\n",
    "sym.pprint(dpsi_x3_0)\n",
    "print()\n",
    "sym.pprint(dpsi_x4_0)"
   ]
  },
  {
   "cell_type": "markdown",
   "id": "8fd91ab8",
   "metadata": {},
   "source": [
    "We find that\n",
    "\n",
    "$ \\left. \\frac{\\partial \\Psi(F, x_3, x_4) }{\\partial F} \\right |_{0,0,0} = -\\frac{3}{l (4M + m)}, $\n",
    "\n",
    "$ \\left. \\frac{\\partial \\Psi(F, x_3, x_4) }{\\partial x_3} \\right |_{0,0,0} = \\frac{3(M+m)g}{l (4M + m)}, $\n",
    "\n",
    "$ \\left. \\frac{\\partial \\Psi(F, x_3, x_4) }{\\partial x_4} \\right |_{0,0,0} = 0.$\n",
    "\n",
    "Therefore the linearization of $\\Psi$ at $(0,0,0)$ is:\n",
    "\n",
    "$ \\Psi \\approx  -\\frac{3}{l (4M + m)} \\cdot F + \\frac{3(M+m)g}{l (4M + m)} \\cdot x_3 $\n",
    "\n",
    "This is considered valid for $(F, x_3, x_4)$ close to $(0,0,0)$"
   ]
  },
  {
   "cell_type": "markdown",
   "id": "1dbbcbbd",
   "metadata": {},
   "source": [
    "### Transfer function of the linearized system\n",
    "\n",
    "To determine the transfer function of the system\n",
    "\n",
    "$ \\dot{x_1} = x_2,$\n",
    "\n",
    "$ \\dot{x_2} = a F - b x_3 $\n",
    "\n",
    "where $ a = \\frac{4}{4M + m},\\: b = \\frac{3g \\cdot m}{4M + m}. $ \n",
    "\n",
    "we will perform the laplace transform on both sides of both equations.\n",
    "\n",
    "$ \\dot{x_1} = x_2 \\xrightarrow{\\mathcal{L}} sX_1 = X_2 $\n",
    "\n",
    "$ \\dot{x_2} = a F - b x_3 \\xrightarrow{\\mathcal{L}} sX_2 = aF - bX_3 $\n",
    "\n",
    "The resulting transfer function is now\n",
    "\n",
    "$ G_x(s) = \\frac{as^2+\\frac{bc}{1-d}}{s^4} $"
   ]
  },
  {
   "cell_type": "code",
   "execution_count": 12,
   "id": "f0cbedb0",
   "metadata": {},
   "outputs": [],
   "source": [
    "a, b, c, d, t = sym.symbols(\"a, b, c, d, t\", positive=True)\n",
    "s = sym.symbols(\"s\")\n",
    "G_x = (a * s**2 + (b * c) / (1 - d)) / (s**4)"
   ]
  },
  {
   "cell_type": "markdown",
   "id": "07527bfd",
   "metadata": {},
   "source": [
    "\n",
    "\n",
    "We will now determine the transfer function of the system\n",
    "\n",
    "$ \\dot{x_3} = x_4,$\n",
    "\n",
    "$ \\dot{x_4} = dx_3 - cF. $\n",
    "\n",
    "where $ c = \\frac{3}{l (4M + m)},\\: d = \\frac{3(M+m)g}{l (4M + m)}. $ \n",
    "\n",
    "To do this, we again transform both sides of both system equations as follows:\n",
    "\n",
    "$ \\dot{x_3} = x_4 \\xrightarrow{\\mathcal{L}} sX_3 = X_4,$\n",
    "\n",
    "$ \\dot{x_4} = dx_3 - cF \\xrightarrow{\\mathcal{L}} sX_4 = dX_3 - cF. $\n",
    "\n",
    "Substituting $X_4$ gives us\n",
    "\n",
    "$ G_\\theta(s) = \\frac{X_3}{F} = \\frac{-c}{s^2-d}. $ \n",
    "\n",
    "The transfer function $G_\\theta(s)$ has poles at $ s = \\pm d. $"
   ]
  },
  {
   "cell_type": "code",
   "execution_count": 13,
   "id": "8e1a1a7c",
   "metadata": {},
   "outputs": [],
   "source": [
    "G_theta = -c / (s**2 - d)"
   ]
  },
  {
   "cell_type": "markdown",
   "id": "45916df3",
   "metadata": {},
   "source": [
    "## 2. System dynamics\n",
    "### Impulse response\n",
    "\n",
    "We can calculate the impulse response of a system by multiplying the respective transfer function with 1 in the s-domain, as this is the laplace transform of a dirac pulse."
   ]
  },
  {
   "cell_type": "markdown",
   "id": "44eccd30",
   "metadata": {},
   "source": [
    "#### $G_\\theta(s)$: The pole angle\n",
    "\n",
    "We will look at the pendulum angle first."
   ]
  },
  {
   "cell_type": "code",
   "execution_count": 14,
   "id": "6b5878e6",
   "metadata": {},
   "outputs": [
    {
     "name": "stdout",
     "output_type": "stream",
     "text": [
      "-c⋅sinh(√d⋅t) \n",
      "──────────────\n",
      "      √d      \n"
     ]
    },
    {
     "data": {
      "image/png": "[encoded data removed]",
      "text/plain": [
       "<Figure size 640x480 with 1 Axes>"
      ]
     },
     "metadata": {},
     "output_type": "display_data"
    }
   ],
   "source": [
    "F = 1\n",
    "X_3 = G_theta * F\n",
    "x_3 = sym.inverse_laplace_transform(X_3, s, t)\n",
    "sym.pprint(x_3)\n",
    "\n",
    "x_3plot = x_3.subs([(c, 1), (d, 1)])\n",
    "p = sym.plot(x_3plot, (t, -15, 15), legend=True, show=False)\n",
    "x_3plot2 = x_3.subs([(c, 2), (d, 2)])\n",
    "p.extend(sym.plot(x_3plot2, legend=True, line_color=\"g\", show=False))\n",
    "x_3plot2 = x_3.subs([(c, 1), (d, 2)])\n",
    "p.extend(sym.plot(x_3plot2, legend=True, line_color=\"r\", show=False))\n",
    "p.show()"
   ]
  },
  {
   "cell_type": "markdown",
   "id": "bf1269a8",
   "metadata": {},
   "source": [
    "### Step response\n",
    "\n",
    "Likewise, we can calculate the step response of the system by multiplying the transfer function by $\\frac{1}{s}$."
   ]
  },
  {
   "cell_type": "code",
   "execution_count": 15,
   "id": "f1d460bb",
   "metadata": {},
   "outputs": [
    {
     "name": "stdout",
     "output_type": "stream",
     "text": [
      "   ⎛cosh(√d⋅t)   1⎞\n",
      "-c⋅⎜────────── - ─⎟\n",
      "   ⎝    d        d⎠\n"
     ]
    },
    {
     "data": {
      "image/png": "[encoded data removed]",
      "text/plain": [
       "<Figure size 640x480 with 1 Axes>"
      ]
     },
     "metadata": {},
     "output_type": "display_data"
    }
   ],
   "source": [
    "F = 1 / s\n",
    "X_3 = G_theta * F\n",
    "x_3 = sym.inverse_laplace_transform(X_3, s, t)\n",
    "sym.pprint(x_3)\n",
    "\n",
    "# TODO fix?\n",
    "x_3plot = x_3.subs([(c, 1), (d, 1)])\n",
    "p = sym.plot(x_3plot, (t, -15, 15), legend=True, show=False)\n",
    "x_3plot2 = x_3.subs([(c, 2), (d, 2)])\n",
    "p.extend(sym.plot(x_3plot2, legend=True, line_color=\"g\", show=False))\n",
    "x_3plot2 = x_3.subs([(c, 1), (d, 2)])\n",
    "p.extend(sym.plot(x_3plot2, legend=True, line_color=\"r\", show=False))\n",
    "x_3plot2 = x_3.subs([(c, 6.593406593406594), (d, 25.87252747252748)])\n",
    "p.extend(sym.plot(x_3plot2, legend=True, line_color=\"k\", show=False))\n",
    "p.show()"
   ]
  },
  {
   "cell_type": "markdown",
   "id": "98b5e98f",
   "metadata": {},
   "source": [
    "### Frequency response\n",
    "\n",
    "We will now look at the response of our linearized system to an input in the form of $F(t) = sin(\\omega t),$ where $\\omega > 0$."
   ]
  },
  {
   "cell_type": "code",
   "execution_count": 16,
   "id": "9e23d84d",
   "metadata": {},
   "outputs": [
    {
     "name": "stdout",
     "output_type": "stream",
     "text": [
      "   ⎛  t   sinh(√d⋅t)⎞ \n",
      "-c⋅⎜- ─ + ──────────⎟ \n",
      "   ⎜  d       3/2   ⎟ \n",
      "   ⎝         d      ⎠ \n",
      "──────────────────────\n",
      "          ω           \n"
     ]
    },
    {
     "data": {
      "image/png": "[encoded data removed]",
      "text/plain": [
       "<Figure size 640x480 with 1 Axes>"
      ]
     },
     "metadata": {},
     "output_type": "display_data"
    }
   ],
   "source": [
    "omega = sym.symbols(\"omega\", positive=True)\n",
    "F = omega / (s**2 * omega**2)\n",
    "X_3 = G_theta * F\n",
    "x_3 = sym.inverse_laplace_transform(X_3, s, t)\n",
    "sym.pprint(x_3)\n",
    "\n",
    "# TODO fix?\n",
    "x_3plot = x_3.subs([(c, 1), (d, 1), (omega, 1)])\n",
    "p = sym.plot(x_3plot, (t, -15, 15), legend=True, show=False)\n",
    "x_3plot2 = x_3.subs([(c, 2), (d, 2), (omega, 1)])\n",
    "p.extend(sym.plot(x_3plot2, legend=True, line_color=\"g\", show=False))\n",
    "x_3plot2 = x_3.subs([(c, 1), (d, 2), (omega, 1)])\n",
    "p.extend(sym.plot(x_3plot2, legend=True, line_color=\"r\", show=False))\n",
    "x_3plot2 = x_3.subs([(c, 2), (d, 1), (omega, 1)])\n",
    "p.extend(sym.plot(x_3plot2, legend=True, line_color=\"k\", show=False))\n",
    "p.show()"
   ]
  }
 ],
 "metadata": {
  "kernelspec": {
   "display_name": ".venv",
   "language": "python",
   "name": "python3"
  },
  "language_info": {
   "codemirror_mode": {
    "name": "ipython",
    "version": 3
   },
   "file_extension": ".py",
   "mimetype": "text/x-python",
   "name": "python",
   "nbconvert_exporter": "python",
   "pygments_lexer": "ipython3",
   "version": "3.10.11"
  }
 },
 "nbformat": 4,
 "nbformat_minor": 5
}
