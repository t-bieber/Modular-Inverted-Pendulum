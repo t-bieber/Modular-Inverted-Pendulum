{
 "cells": [
  {
   "cell_type": "markdown",
   "id": "81fabc1a",
   "metadata": {},
   "source": [
    "# Using sympy for symbolic calculations\n",
    "To use sympy, first import the library."
   ]
  },
  {
   "cell_type": "code",
   "execution_count": 2,
   "id": "797a742b",
   "metadata": {},
   "outputs": [],
   "source": [
    "import sympy as sym"
   ]
  },
  {
   "cell_type": "markdown",
   "id": "fcb73345",
   "metadata": {},
   "source": [
    "### Simple maths\n",
    "We can define some variables symbolically and use them in a function:"
   ]
  },
  {
   "cell_type": "code",
   "execution_count": 3,
   "id": "2800c131",
   "metadata": {},
   "outputs": [
    {
     "name": "stdout",
     "output_type": "stream",
     "text": [
      "f = a*sin(x**2)\n"
     ]
    }
   ],
   "source": [
    "a = sym.symbols(\"a\", real=True)\n",
    "x = sym.symbols(\"x\", positive=True)\n",
    "f = a * sym.sin(x**2)\n",
    "print(f\"f = {f}\")"
   ]
  },
  {
   "cell_type": "markdown",
   "id": "00547fa5",
   "metadata": {},
   "source": [
    "We can use `subs()` to substitute the variable for a chosen value and then solve the equation for that value."
   ]
  },
  {
   "cell_type": "code",
   "execution_count": 4,
   "id": "137a7d1e",
   "metadata": {},
   "outputs": [
    {
     "name": "stdout",
     "output_type": "stream",
     "text": [
      "f_0 = f(x_0) = a\n"
     ]
    }
   ],
   "source": [
    "x0 = sym.sqrt(2 * sym.pi) / 2\n",
    "f0 = f.subs([(x, x0)])\n",
    "print(f\"f_0 = f(x_0) = {f0}\")"
   ]
  },
  {
   "cell_type": "markdown",
   "id": "189b9b41",
   "metadata": {},
   "source": [
    "The result is correct, yay."
   ]
  },
  {
   "cell_type": "markdown",
   "id": "55bb4d66",
   "metadata": {},
   "source": [
    "### Partial differentials\n",
    "\n",
    "We can calculate symbolically the partial differentials of a function in regards to a variable using `diff(variable)`"
   ]
  },
  {
   "cell_type": "code",
   "execution_count": 11,
   "id": "c67051d1",
   "metadata": {},
   "outputs": [
    {
     "name": "stdout",
     "output_type": "stream",
     "text": [
      "1\n",
      "x**(sin(y)**2 + 1)*(sin(y)**2 + 1)/x\n",
      "2*x**(sin(y)**2 + 1)*log(x)*sin(y)*cos(y)\n"
     ]
    }
   ],
   "source": [
    "x, y = sym.symbols(\"x, y\", positive=True)\n",
    "f = x ** (sym.sin(y) ** 2 + 1)\n",
    "f0 = f.subs([(x, 1), (y, 0)])\n",
    "print(f0)\n",
    "\n",
    "dfx = f.diff(x)\n",
    "dfy = f.diff(y)\n",
    "print(dfx)\n",
    "print(dfy)"
   ]
  },
  {
   "cell_type": "markdown",
   "id": "58ffb7de",
   "metadata": {},
   "source": [
    "This isn't very easy to read - we will use `pprint()` to display the results in a nicer form."
   ]
  },
  {
   "cell_type": "code",
   "execution_count": 13,
   "id": "09e3aabd",
   "metadata": {},
   "outputs": [
    {
     "name": "stdout",
     "output_type": "stream",
     "text": [
      "Derivative with respect to x:\n",
      "    2                     \n",
      " sin (y) + 1 ⎛   2       ⎞\n",
      "x           ⋅⎝sin (y) + 1⎠\n",
      "──────────────────────────\n",
      "            x             \n",
      "Derivative with respect to y:\n",
      "      2                            \n",
      "   sin (y) + 1                     \n",
      "2⋅x           ⋅log(x)⋅sin(y)⋅cos(y)\n"
     ]
    }
   ],
   "source": [
    "print(\"Derivative with respect to x:\")\n",
    "sym.pprint(dfx)\n",
    "print(\"Derivative with respect to y:\")\n",
    "sym.pprint(dfy)"
   ]
  },
  {
   "cell_type": "markdown",
   "id": "689b7ea6",
   "metadata": {},
   "source": [
    "It's a bit hacky, but it gets the job done."
   ]
  },
  {
   "cell_type": "markdown",
   "id": "6271e2ca",
   "metadata": {},
   "source": [
    "### Linearization\n",
    "We will linearize the expression $f = ln(exp(a*x) + exp(y))$ at $(x_0, y_0) = (1, 1).$"
   ]
  },
  {
   "cell_type": "code",
   "execution_count": 20,
   "id": "7352f928",
   "metadata": {},
   "outputs": [
    {
     "name": "stdout",
     "output_type": "stream",
     "text": [
      "f = log(exp(y) + exp(a*x))\n",
      "f0 = log(exp(a) + E)\n",
      "dfx0 = a*exp(a)/(exp(a) + E)\n",
      "dfy0 = E/(exp(a) + E)\n",
      "f_linearized = a*(x - 1)*exp(a)/(exp(a) + E) + E*(y - 1)/(exp(a) + E) + log(exp(a) + E)\n"
     ]
    }
   ],
   "source": [
    "x, y, a = sym.symbols(\"x, y, a\", positive=True)\n",
    "f = sym.log(sym.exp(a * x) + sym.exp(y))\n",
    "print(f\"f = {f}\")\n",
    "dfx = f.diff(x)\n",
    "dfy = f.diff(y)\n",
    "x0 = 1\n",
    "y0 = 1\n",
    "f0 = f.subs([(x, x0), (y, y0)])\n",
    "print(f\"f0 = {f0}\")\n",
    "dfx0 = dfx.subs([(x, x0), (y, y0)])\n",
    "dfy0 = dfy.subs([(x, x0), (y, y0)])\n",
    "print(f\"dfx0 = {dfx0}\")\n",
    "print(f\"dfy0 = {dfy0}\")\n",
    "flin = f0 + dfx0 * (x - x0) + dfy0 * (y - y0)\n",
    "print(f\"f_linearized = {flin}\")"
   ]
  },
  {
   "cell_type": "markdown",
   "id": "86b2dc9e",
   "metadata": {},
   "source": [
    "### Simplifying expressions\n",
    "We can also simplify complex expressions using `expression.simplify()`."
   ]
  },
  {
   "cell_type": "code",
   "execution_count": 19,
   "id": "02b1a3b1",
   "metadata": {},
   "outputs": [
    {
     "name": "stdout",
     "output_type": "stream",
     "text": [
      "f = sin(x)*cos(y) + sin(y)*cos(x)\n",
      "f = sin(x + y)\n"
     ]
    }
   ],
   "source": [
    "x, y = sym.symbols(\"x, y\", real=True)\n",
    "f = sym.cos(x) * sym.sin(y) + sym.cos(y) * sym.sin(x)\n",
    "print(f\"f = {f}\")\n",
    "f = f.simplify()\n",
    "print(f\"f = {f}\")"
   ]
  },
  {
   "cell_type": "markdown",
   "id": "4692648f",
   "metadata": {},
   "source": [
    "***\n",
    "Some other things:"
   ]
  },
  {
   "cell_type": "markdown",
   "id": "1ddc9b09",
   "metadata": {},
   "source": [
    "<div class=\"alert alert-block alert-info\">\n",
    "<b>Tip:</b> Use blue boxes (alert-info) for tips and notes. \n",
    "If it’s a note, you don’t have to include the word “Note”.\n",
    "</div>"
   ]
  },
  {
   "cell_type": "markdown",
   "id": "f6d20641",
   "metadata": {},
   "source": [
    "<div class=\"alert alert-block alert-warning\">\n",
    "<b>Example:</b> Use yellow boxes for examples that are not \n",
    "inside code cells, or use for mathematical formulas if needed.\n",
    "</div>"
   ]
  },
  {
   "cell_type": "markdown",
   "id": "c747aee8",
   "metadata": {},
   "source": [
    "<div class=\"alert alert-block alert-success\">\n",
    "<b>Up to you:</b> Use green boxes sparingly, and only for some specific \n",
    "purpose that the other boxes can't cover. For example, if you have a lot \n",
    "of related content to link to, maybe you decide to use green boxes for \n",
    "related links from each section of a notebook.\n",
    "</div>"
   ]
  },
  {
   "cell_type": "markdown",
   "id": "b6b1918b",
   "metadata": {},
   "source": [
    "<div class=\"alert alert-block alert-danger\">\n",
    "<b>Just don't:</b> In general, avoid the red boxes. These should only be\n",
    "used for actions that might cause data loss or another major issue.\n",
    "</div>"
   ]
  },
  {
   "cell_type": "markdown",
   "id": "afe866f0",
   "metadata": {},
   "source": [
    "__[Markdown Cheatsheet by IBM](https://www.ibm.com/docs/en/watson-studio-local/1.2.3?topic=notebooks-markdown-jupyter-cheatsheet)__"
   ]
  }
 ],
 "metadata": {
  "kernelspec": {
   "display_name": ".venv",
   "language": "python",
   "name": "python3"
  },
  "language_info": {
   "codemirror_mode": {
    "name": "ipython",
    "version": 3
   },
   "file_extension": ".py",
   "mimetype": "text/x-python",
   "name": "python",
   "nbconvert_exporter": "python",
   "pygments_lexer": "ipython3",
   "version": "3.10.11"
  }
 },
 "nbformat": 4,
 "nbformat_minor": 5
}
